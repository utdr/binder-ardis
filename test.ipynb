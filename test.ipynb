{
 "cells": [
  {
   "cell_type": "markdown",
   "id": "6bfc703e",
   "metadata": {},
   "source": [
    "## Imports"
   ]
  },
  {
   "cell_type": "code",
   "execution_count": null,
   "id": "c154f63d",
   "metadata": {},
   "outputs": [],
   "source": [
    "import numpy as np\n",
    "import pandas as pd\n",
    "from lxml import etree\n",
    "import re\n",
    "import json"
   ]
  },
  {
   "cell_type": "markdown",
   "id": "88a065ed",
   "metadata": {},
   "source": [
    "## Lecture du fichier csv"
   ]
  },
  {
   "cell_type": "code",
   "execution_count": null,
   "id": "ebada49e",
   "metadata": {},
   "outputs": [],
   "source": [
    "df = pd.read_csv(\"C:/Users/uyen-to/PROJETS/Pyramid_Reflex/wals/cldf/examples.csv\", sep=\",\")"
   ]
  },
  {
   "cell_type": "code",
   "execution_count": null,
   "id": "1066dabc",
   "metadata": {},
   "outputs": [],
   "source": [
    "df.head(10)"
   ]
  },
  {
   "cell_type": "markdown",
   "id": "de57daa8",
   "metadata": {},
   "source": [
    "## Conversion des NaN"
   ]
  },
  {
   "cell_type": "code",
   "execution_count": null,
   "id": "81a4a796",
   "metadata": {},
   "outputs": [],
   "source": [
    "df.fillna(\"\", inplace=True)"
   ]
  },
  {
   "cell_type": "markdown",
   "id": "018d8d97",
   "metadata": {},
   "source": [
    "## Transformation d'une colonne"
   ]
  },
  {
   "cell_type": "code",
   "execution_count": null,
   "id": "be7ab0cd",
   "metadata": {},
   "outputs": [],
   "source": [
    "df.ID = df.ID.str.upper()"
   ]
  },
  {
   "cell_type": "code",
   "execution_count": null,
   "id": "44bf4648",
   "metadata": {},
   "outputs": [],
   "source": [
    "df.head()"
   ]
  },
  {
   "cell_type": "code",
   "execution_count": null,
   "id": "522ba804",
   "metadata": {},
   "outputs": [],
   "source": [
    "x = \"Flomo\\t-\\tAPL\"\n",
    "x.replace(\"\\t\", \"$\").replace(\"[\", \"\").replace(\"]\", \"\").split(\"$\")"
   ]
  },
  {
   "cell_type": "raw",
   "id": "27434520",
   "metadata": {},
   "source": [
    "x = \"$sdfqsf.mljlkj\"\n",
    "\n",
    "# échappe la liste de caractères (ajoute de l'antislash)\n",
    "for caractère in [\"$\", \"^\", \".\", \"*\", \"+\", \"-\", \"?\"]:\n",
    "    x = x.replace(caractère, f\"\\{caractère}\")\n",
    "print(x)"
   ]
  },
  {
   "cell_type": "code",
   "execution_count": null,
   "id": "e8f5c52a",
   "metadata": {},
   "outputs": [],
   "source": [
    "x = \"tāmen\\ttōu\\tzìxíngchē\"\n",
    "x = x.replace(\"\\t\",\"/\")\n",
    "x"
   ]
  },
  {
   "cell_type": "code",
   "execution_count": null,
   "id": "6133dfef",
   "metadata": {},
   "outputs": [],
   "source": [
    "def coupeAuxTab(x):\n",
    "    x =x.replace(\"\\\\t\", \"$\").replace(\"[\", \"\").replace(\"]\", \"\").split(\"$\")\n",
    "    return set(x)\n",
    "\n",
    "coupeAuxTab(\"Yoni\\t3PL\\tgo.IMPERF.3PL\")"
   ]
  },
  {
   "cell_type": "code",
   "execution_count": null,
   "id": "6072980e",
   "metadata": {},
   "outputs": [],
   "source": [
    "toto = \"oblig\\tarrive\\tthe\\tchild\"\n",
    "coupeAuxTab(toto)"
   ]
  },
  {
   "cell_type": "code",
   "execution_count": null,
   "id": "4b9ed1ec",
   "metadata": {},
   "outputs": [],
   "source": [
    "coupeAuxTab(df[\"Analyzed_Word\"][2])"
   ]
  },
  {
   "cell_type": "code",
   "execution_count": null,
   "id": "d5186ceb",
   "metadata": {},
   "outputs": [],
   "source": [
    "df[\"Gloss_m\"] = df[\"Gloss\"].apply(coupeAuxTab)"
   ]
  },
  {
   "cell_type": "code",
   "execution_count": null,
   "id": "6ab8c064",
   "metadata": {},
   "outputs": [],
   "source": [
    "df.head(20)"
   ]
  },
  {
   "cell_type": "code",
   "execution_count": null,
   "id": "ff71bb94",
   "metadata": {},
   "outputs": [],
   "source": [
    "df"
   ]
  },
  {
   "cell_type": "markdown",
   "id": "a7e7da31",
   "metadata": {},
   "source": [
    "## Filtre sur colonnes"
   ]
  },
  {
   "cell_type": "code",
   "execution_count": null,
   "id": "4b45d1a0",
   "metadata": {},
   "outputs": [],
   "source": [
    "df = df[df.ID.str.contains(\"4\") & df.Gloss.str.contains(\"PL\")]"
   ]
  },
  {
   "cell_type": "code",
   "execution_count": null,
   "id": "22f2bb28",
   "metadata": {},
   "outputs": [],
   "source": [
    "df[df.Comment != \"\"]"
   ]
  },
  {
   "cell_type": "markdown",
   "id": "838dab4b",
   "metadata": {},
   "source": [
    "## Sauvegarde du fichier"
   ]
  },
  {
   "cell_type": "code",
   "execution_count": null,
   "id": "93a5671c",
   "metadata": {},
   "outputs": [],
   "source": [
    "df.to_csv(\"results/examples_out.tsv\", index=False, encoding=\"utf-8\", sep=\"\\t\")"
   ]
  },
  {
   "cell_type": "code",
   "execution_count": null,
   "id": "4864bf99",
   "metadata": {},
   "outputs": [],
   "source": []
  }
 ],
 "metadata": {
  "kernelspec": {
   "display_name": "binderenv",
   "language": "python",
   "name": "binderenv"
  },
  "language_info": {
   "codemirror_mode": {
    "name": "ipython",
    "version": 3
   },
   "file_extension": ".py",
   "mimetype": "text/x-python",
   "name": "python",
   "nbconvert_exporter": "python",
   "pygments_lexer": "ipython3",
   "version": "3.8.8"
  }
 },
 "nbformat": 4,
 "nbformat_minor": 5
}
