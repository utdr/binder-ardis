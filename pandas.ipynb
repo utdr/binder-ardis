{
 "cells": [
  {
   "cell_type": "markdown",
   "id": "6bfc703e",
   "metadata": {},
   "source": [
    "## Imports"
   ]
  },
  {
   "cell_type": "code",
   "execution_count": null,
   "id": "c154f63d",
   "metadata": {},
   "outputs": [],
   "source": [
    "import numpy as np\n",
    "import pandas as pd\n",
    "from lxml import etree\n",
    "import re\n",
    "import json"
   ]
  },
  {
   "cell_type": "markdown",
   "id": "88a065ed",
   "metadata": {},
   "source": [
    "## Lecture d'un fichier csv"
   ]
  },
  {
   "cell_type": "code",
   "execution_count": null,
   "id": "ebada49e",
   "metadata": {},
   "outputs": [],
   "source": [
    "df = pd.read_csv(\"DATA/conv_gloses.csv\", sep=\";\", encoding=\"utf-8\")\n",
    "# dtype={'ordre': 'Int32'}"
   ]
  },
  {
   "cell_type": "code",
   "execution_count": null,
   "id": "1066dabc",
   "metadata": {},
   "outputs": [],
   "source": [
    "df.head(10)"
   ]
  },
  {
   "cell_type": "markdown",
   "id": "628b8369",
   "metadata": {},
   "source": [
    "### Lister les colonnes"
   ]
  },
  {
   "cell_type": "code",
   "execution_count": null,
   "id": "37372bdd",
   "metadata": {},
   "outputs": [],
   "source": [
    "df.columns"
   ]
  },
  {
   "cell_type": "markdown",
   "id": "de57daa8",
   "metadata": {},
   "source": [
    "### Convertir des NaN"
   ]
  },
  {
   "cell_type": "code",
   "execution_count": null,
   "id": "81a4a796",
   "metadata": {},
   "outputs": [],
   "source": [
    "df.fillna(\"-\", inplace=True)"
   ]
  },
  {
   "cell_type": "markdown",
   "id": "018d8d97",
   "metadata": {},
   "source": [
    "### Transformer une colonne"
   ]
  },
  {
   "cell_type": "code",
   "execution_count": null,
   "id": "be7ab0cd",
   "metadata": {},
   "outputs": [],
   "source": [
    "df.XFeat = df.XFeat.str.upper()"
   ]
  },
  {
   "cell_type": "code",
   "execution_count": null,
   "id": "44bf4648",
   "metadata": {},
   "outputs": [],
   "source": [
    "df.head(10)"
   ]
  },
  {
   "cell_type": "markdown",
   "id": "5e4353ae",
   "metadata": {},
   "source": [
    "### Supprimer une colonne"
   ]
  },
  {
   "cell_type": "code",
   "execution_count": null,
   "id": "eb21093f",
   "metadata": {},
   "outputs": [],
   "source": [
    "df.drop([\"Unnamed: 8\"], axis=1, inplace=True)"
   ]
  },
  {
   "cell_type": "markdown",
   "id": "3e380ef2",
   "metadata": {},
   "source": [
    "### Appliquer une fonction simple à une colonne"
   ]
  },
  {
   "cell_type": "code",
   "execution_count": null,
   "id": "0f4ee1a2",
   "metadata": {},
   "outputs": [],
   "source": [
    "# mettre en majuscule (upper), minuscule (lower), première lettre majuscule (capitalize)\n",
    "df.XFeat.str.capitalize()"
   ]
  },
  {
   "cell_type": "code",
   "execution_count": null,
   "id": "d5186ceb",
   "metadata": {},
   "outputs": [],
   "source": [
    "df[\"Etiquette_new\"] = df[\"Etiquette\"].apply(lambda x : set(x.split(\".\")))"
   ]
  },
  {
   "cell_type": "code",
   "execution_count": null,
   "id": "6ab8c064",
   "metadata": {},
   "outputs": [],
   "source": [
    "df.head(120)"
   ]
  },
  {
   "cell_type": "markdown",
   "id": "25099d27",
   "metadata": {},
   "source": [
    "### Convertir des valeurs décimales en entier"
   ]
  },
  {
   "cell_type": "code",
   "execution_count": null,
   "id": "3992270a",
   "metadata": {},
   "outputs": [],
   "source": [
    "def convertOrdre(x):\n",
    "    if x == \"-\":\n",
    "        return \"-\"\n",
    "    else:\n",
    "        return int(float(x))"
   ]
  },
  {
   "cell_type": "code",
   "execution_count": null,
   "id": "1c250d61",
   "metadata": {},
   "outputs": [],
   "source": [
    "convertOrdre(\"1.2\")"
   ]
  },
  {
   "cell_type": "code",
   "execution_count": null,
   "id": "e3e5b161",
   "metadata": {},
   "outputs": [],
   "source": [
    "df[\"ordre_int\"] = df.ordre.apply(convertOrdre)"
   ]
  },
  {
   "cell_type": "code",
   "execution_count": null,
   "id": "0a6d24ee",
   "metadata": {},
   "outputs": [],
   "source": [
    "df.head(10)"
   ]
  },
  {
   "cell_type": "markdown",
   "id": "3c34ff7f",
   "metadata": {},
   "source": [
    "### Localiser une cellule et trouver son type"
   ]
  },
  {
   "cell_type": "code",
   "execution_count": null,
   "id": "cf182632",
   "metadata": {},
   "outputs": [],
   "source": [
    "type(df.iloc[114,9])"
   ]
  },
  {
   "cell_type": "markdown",
   "id": "a7e7da31",
   "metadata": {},
   "source": [
    "### Filtrer sur colonnes"
   ]
  },
  {
   "cell_type": "code",
   "execution_count": null,
   "id": "9fd42928",
   "metadata": {},
   "outputs": [],
   "source": [
    "df[[\"POS\",\"XFeat\"]]"
   ]
  },
  {
   "cell_type": "markdown",
   "id": "f879b1d1",
   "metadata": {},
   "source": [
    "### Filtrer sur lignes"
   ]
  },
  {
   "cell_type": "code",
   "execution_count": null,
   "id": "4b45d1a0",
   "metadata": {},
   "outputs": [],
   "source": [
    "df[df.XFeat.str.contains(\"ACC\") & df.Etiquette.str.contains(\"ACC\")]"
   ]
  },
  {
   "cell_type": "code",
   "execution_count": null,
   "id": "f5b5f8a6",
   "metadata": {},
   "outputs": [],
   "source": [
    "df[df.XFeat.str.contains(\"ACC\") | df.Etiquette.str.contains(\"ADV\")]"
   ]
  },
  {
   "cell_type": "markdown",
   "id": "a1c96408",
   "metadata": {},
   "source": [
    "### Filtrer sur lignes et colonnes"
   ]
  },
  {
   "cell_type": "code",
   "execution_count": null,
   "id": "f76336c2",
   "metadata": {},
   "outputs": [],
   "source": [
    "df.loc[df[\"POS\"] == \"adverb\", (\"POS\",\"Feat_conv\",\"Etiquette\")]"
   ]
  },
  {
   "cell_type": "markdown",
   "id": "838dab4b",
   "metadata": {},
   "source": [
    "### Sauvegarder un fichier"
   ]
  },
  {
   "cell_type": "code",
   "execution_count": null,
   "id": "93a5671c",
   "metadata": {},
   "outputs": [],
   "source": [
    "df.to_csv(\"results/examples_out.tsv\", index=False, encoding=\"utf-8\", sep=\"\\t\")"
   ]
  },
  {
   "cell_type": "markdown",
   "id": "430a66f4",
   "metadata": {},
   "source": [
    "## Lecture d'un fichier xlsx : Book1"
   ]
  },
  {
   "cell_type": "code",
   "execution_count": null,
   "id": "63432c77",
   "metadata": {},
   "outputs": [],
   "source": [
    "dfxls = pd.read_excel(\"DATA/Book1.xlsx\", usecols=[0,1,2])"
   ]
  },
  {
   "cell_type": "code",
   "execution_count": null,
   "id": "b7c2c3e9",
   "metadata": {},
   "outputs": [],
   "source": [
    "dfxls.head()"
   ]
  },
  {
   "cell_type": "markdown",
   "id": "315d042f",
   "metadata": {},
   "source": [
    "### Convertir en chaîne de caractères"
   ]
  },
  {
   "cell_type": "code",
   "execution_count": null,
   "id": "83a65f05",
   "metadata": {},
   "outputs": [],
   "source": [
    "type(dfxls.iloc[0,0])"
   ]
  },
  {
   "cell_type": "code",
   "execution_count": null,
   "id": "cd5276a3",
   "metadata": {},
   "outputs": [],
   "source": [
    "dfxls[\"house_age_str\"] = dfxls[\"House Age (years)\"].astype(str)"
   ]
  },
  {
   "cell_type": "code",
   "execution_count": null,
   "id": "dfc33342",
   "metadata": {},
   "outputs": [],
   "source": [
    "dfxls.head()"
   ]
  },
  {
   "cell_type": "markdown",
   "id": "fc1f17cc",
   "metadata": {},
   "source": [
    "### Qqs fonctions mathématiques"
   ]
  },
  {
   "cell_type": "code",
   "execution_count": null,
   "id": "29ca61c9",
   "metadata": {},
   "outputs": [],
   "source": [
    "print(dfxls[\"Price per Square Foot\"].sum())\n",
    "print(dfxls[\"Price per Square Foot\"].mean())\n",
    "print(dfxls[\"Price per Square Foot\"].max())"
   ]
  },
  {
   "cell_type": "code",
   "execution_count": null,
   "id": "bc146eb4",
   "metadata": {},
   "outputs": [],
   "source": [
    "dfxls.describe()"
   ]
  },
  {
   "cell_type": "markdown",
   "id": "81603f94",
   "metadata": {},
   "source": [
    "## Exercices : Book2"
   ]
  },
  {
   "cell_type": "code",
   "execution_count": null,
   "id": "e0f0db28",
   "metadata": {},
   "outputs": [],
   "source": [
    "ventes = pd.read_excel(\"DATA/Book2_sample.xlsx\", usecols=range(0,7))\n",
    "# usecols = \"A,B,C,D\""
   ]
  },
  {
   "cell_type": "code",
   "execution_count": null,
   "id": "994bc104",
   "metadata": {},
   "outputs": [],
   "source": [
    "ventes.shape"
   ]
  },
  {
   "cell_type": "code",
   "execution_count": null,
   "id": "4d6a8c0b",
   "metadata": {},
   "outputs": [],
   "source": [
    "ventes.head()"
   ]
  },
  {
   "cell_type": "markdown",
   "id": "1b6e7102",
   "metadata": {},
   "source": [
    "### Lire une feuille par son index"
   ]
  },
  {
   "cell_type": "code",
   "execution_count": null,
   "id": "cd46b17a",
   "metadata": {},
   "outputs": [],
   "source": [
    "clients = pd.read_excel(\"DATA/Book2_sample.xlsx\", sheet_name=1)"
   ]
  },
  {
   "cell_type": "code",
   "execution_count": null,
   "id": "d8417d95",
   "metadata": {},
   "outputs": [],
   "source": [
    "clients.head()"
   ]
  },
  {
   "cell_type": "markdown",
   "id": "055f6137",
   "metadata": {},
   "source": [
    "### Faire une jointure (équivalent du Vlookup dans excel)"
   ]
  },
  {
   "cell_type": "code",
   "execution_count": null,
   "id": "ac38ac18",
   "metadata": {},
   "outputs": [],
   "source": [
    "join = pd.merge(ventes, clients, on=\"Customer_ID\", how='left')\n",
    "join"
   ]
  },
  {
   "cell_type": "markdown",
   "id": "26fd2e2f",
   "metadata": {},
   "source": [
    "### Questions : \n",
    "1. Remplacer les valeurs \"NaN\" par des chaînes de caractères vides\n",
    "1. Trouver le nombre de Order_No différents\n",
    "1. Filtrer les commandes dont la quantité est supérieure à 10\n",
    "1. Pour l'order_No 539993, trouver la quantité de produits correspondant et la somme de ces quantités\n",
    "1. Créer une colonne \"new\" contenant le numéro de commande et l'id du client séparés par un slash\n",
    "1. Bonus : Transformer la colonne \"Product_Description\" pour que les noms soient en minuscules avec la première lettre en majuscule\n"
   ]
  }
 ],
 "metadata": {
  "interpreter": {
   "hash": "8dd01cfb4debfed50cf1d3998110c2b6946eda4f0e4a7b61139be043cd6ef6f2"
  },
  "kernelspec": {
   "display_name": "Python 3 (ipykernel)",
   "language": "python",
   "name": "python3"
  },
  "language_info": {
   "codemirror_mode": {
    "name": "ipython",
    "version": 3
   },
   "file_extension": ".py",
   "mimetype": "text/x-python",
   "name": "python",
   "nbconvert_exporter": "python",
   "pygments_lexer": "ipython3",
   "version": "3.8.8"
  }
 },
 "nbformat": 4,
 "nbformat_minor": 5
}
