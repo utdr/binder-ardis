{
 "cells": [
  {
   "cell_type": "markdown",
   "id": "6bfc703e",
   "metadata": {},
   "source": [
    "## Imports"
   ]
  },
  {
   "cell_type": "code",
   "execution_count": 2,
   "id": "c154f63d",
   "metadata": {},
   "outputs": [],
   "source": [
    "import numpy as np\n",
    "import pandas as pd\n",
    "from lxml import etree\n",
    "import re\n",
    "import json"
   ]
  },
  {
   "cell_type": "markdown",
   "id": "88a065ed",
   "metadata": {},
   "source": [
    "## Lecture du fichier csv"
   ]
  },
  {
   "cell_type": "code",
   "execution_count": 5,
   "id": "ebada49e",
   "metadata": {},
   "outputs": [],
   "source": [
    "df = pd.read_csv(\"DATA/forms.csv\", sep=\",\", encoding=\"utf-8\")"
   ]
  },
  {
   "cell_type": "code",
   "execution_count": 6,
   "id": "1066dabc",
   "metadata": {},
   "outputs": [
    {
     "data": {
      "text/html": [
       "<div>\n",
       "<style scoped>\n",
       "    .dataframe tbody tr th:only-of-type {\n",
       "        vertical-align: middle;\n",
       "    }\n",
       "\n",
       "    .dataframe tbody tr th {\n",
       "        vertical-align: top;\n",
       "    }\n",
       "\n",
       "    .dataframe thead th {\n",
       "        text-align: right;\n",
       "    }\n",
       "</style>\n",
       "<table border=\"1\" class=\"dataframe\">\n",
       "  <thead>\n",
       "    <tr style=\"text-align: right;\">\n",
       "      <th></th>\n",
       "      <th>ID</th>\n",
       "      <th>Local_ID</th>\n",
       "      <th>Language_ID</th>\n",
       "      <th>Parameter_ID</th>\n",
       "      <th>Value</th>\n",
       "      <th>Form</th>\n",
       "      <th>Segments</th>\n",
       "      <th>Comment</th>\n",
       "      <th>Source</th>\n",
       "      <th>Cognacy</th>\n",
       "      <th>Loan</th>\n",
       "      <th>Graphemes</th>\n",
       "      <th>Profile</th>\n",
       "    </tr>\n",
       "  </thead>\n",
       "  <tbody>\n",
       "    <tr>\n",
       "      <th>0</th>\n",
       "      <td>pch-1-1</td>\n",
       "      <td>NaN</td>\n",
       "      <td>pch</td>\n",
       "      <td>1</td>\n",
       "      <td>*hú•ri-</td>\n",
       "      <td>*hú•ri-</td>\n",
       "      <td>NaN</td>\n",
       "      <td>NaN</td>\n",
       "      <td>NaN</td>\n",
       "      <td>NaN</td>\n",
       "      <td>NaN</td>\n",
       "      <td>NaN</td>\n",
       "      <td>NaN</td>\n",
       "    </tr>\n",
       "    <tr>\n",
       "      <th>1</th>\n",
       "      <td>cr-1-1</td>\n",
       "      <td>NaN</td>\n",
       "      <td>cr</td>\n",
       "      <td>1</td>\n",
       "      <td>húuli-</td>\n",
       "      <td>húuli-</td>\n",
       "      <td>NaN</td>\n",
       "      <td>NaN</td>\n",
       "      <td>dec[38]</td>\n",
       "      <td>NaN</td>\n",
       "      <td>NaN</td>\n",
       "      <td>NaN</td>\n",
       "      <td>NaN</td>\n",
       "    </tr>\n",
       "    <tr>\n",
       "      <th>2</th>\n",
       "      <td>hi-1-1</td>\n",
       "      <td>NaN</td>\n",
       "      <td>hi</td>\n",
       "      <td>1</td>\n",
       "      <td>hú•riširu</td>\n",
       "      <td>hú•riširu</td>\n",
       "      <td>NaN</td>\n",
       "      <td>NaN</td>\n",
       "      <td>j</td>\n",
       "      <td>NaN</td>\n",
       "      <td>NaN</td>\n",
       "      <td>NaN</td>\n",
       "      <td>NaN</td>\n",
       "    </tr>\n",
       "    <tr>\n",
       "      <th>3</th>\n",
       "      <td>ma-1-1</td>\n",
       "      <td>NaN</td>\n",
       "      <td>ma</td>\n",
       "      <td>1</td>\n",
       "      <td>hóraʔke</td>\n",
       "      <td>hóraʔke</td>\n",
       "      <td>NaN</td>\n",
       "      <td>NaN</td>\n",
       "      <td>c</td>\n",
       "      <td>NaN</td>\n",
       "      <td>NaN</td>\n",
       "      <td>NaN</td>\n",
       "      <td>NaN</td>\n",
       "    </tr>\n",
       "    <tr>\n",
       "      <th>4</th>\n",
       "      <td>of-1-1</td>\n",
       "      <td>NaN</td>\n",
       "      <td>of</td>\n",
       "      <td>1</td>\n",
       "      <td>[†ó•wati]</td>\n",
       "      <td>[†ó•wati]</td>\n",
       "      <td>NaN</td>\n",
       "      <td>NaN</td>\n",
       "      <td>ds[328];ssf</td>\n",
       "      <td>NaN</td>\n",
       "      <td>NaN</td>\n",
       "      <td>NaN</td>\n",
       "      <td>NaN</td>\n",
       "    </tr>\n",
       "    <tr>\n",
       "      <th>5</th>\n",
       "      <td>psi-2-1</td>\n",
       "      <td>NaN</td>\n",
       "      <td>psi</td>\n",
       "      <td>2</td>\n",
       "      <td>*sitó• (?)</td>\n",
       "      <td>*sitó•</td>\n",
       "      <td>NaN</td>\n",
       "      <td>NaN</td>\n",
       "      <td>NaN</td>\n",
       "      <td>NaN</td>\n",
       "      <td>NaN</td>\n",
       "      <td>NaN</td>\n",
       "      <td>NaN</td>\n",
       "    </tr>\n",
       "    <tr>\n",
       "      <th>6</th>\n",
       "      <td>ca-2-1</td>\n",
       "      <td>NaN</td>\n",
       "      <td>ca</td>\n",
       "      <td>2</td>\n",
       "      <td>sųdá•</td>\n",
       "      <td>sųdá•</td>\n",
       "      <td>NaN</td>\n",
       "      <td>NaN</td>\n",
       "      <td>ks;g</td>\n",
       "      <td>NaN</td>\n",
       "      <td>NaN</td>\n",
       "      <td>NaN</td>\n",
       "      <td>NaN</td>\n",
       "    </tr>\n",
       "    <tr>\n",
       "      <th>7</th>\n",
       "      <td>pdh-2-1</td>\n",
       "      <td>NaN</td>\n",
       "      <td>pdh</td>\n",
       "      <td>2</td>\n",
       "      <td>*sitóti</td>\n",
       "      <td>*sitóti</td>\n",
       "      <td>NaN</td>\n",
       "      <td>NaN</td>\n",
       "      <td>NaN</td>\n",
       "      <td>NaN</td>\n",
       "      <td>NaN</td>\n",
       "      <td>NaN</td>\n",
       "      <td>NaN</td>\n",
       "    </tr>\n",
       "    <tr>\n",
       "      <th>8</th>\n",
       "      <td>ch-2-1</td>\n",
       "      <td>NaN</td>\n",
       "      <td>ch</td>\n",
       "      <td>2</td>\n",
       "      <td>θʔída</td>\n",
       "      <td>θʔída</td>\n",
       "      <td>NaN</td>\n",
       "      <td>NaN</td>\n",
       "      <td>jgt[69]</td>\n",
       "      <td>NaN</td>\n",
       "      <td>NaN</td>\n",
       "      <td>NaN</td>\n",
       "      <td>NaN</td>\n",
       "    </tr>\n",
       "    <tr>\n",
       "      <th>9</th>\n",
       "      <td>op-2-1</td>\n",
       "      <td>NaN</td>\n",
       "      <td>op</td>\n",
       "      <td>2</td>\n",
       "      <td>çidadi</td>\n",
       "      <td>çidadi</td>\n",
       "      <td>NaN</td>\n",
       "      <td>NaN</td>\n",
       "      <td>sw[192]</td>\n",
       "      <td>NaN</td>\n",
       "      <td>NaN</td>\n",
       "      <td>NaN</td>\n",
       "      <td>NaN</td>\n",
       "    </tr>\n",
       "  </tbody>\n",
       "</table>\n",
       "</div>"
      ],
      "text/plain": [
       "        ID  Local_ID Language_ID  Parameter_ID       Value       Form  \\\n",
       "0  pch-1-1       NaN         pch             1     *hú•ri-    *hú•ri-   \n",
       "1   cr-1-1       NaN          cr             1      húuli-     húuli-   \n",
       "2   hi-1-1       NaN          hi             1   hú•riširu  hú•riširu   \n",
       "3   ma-1-1       NaN          ma             1     hóraʔke    hóraʔke   \n",
       "4   of-1-1       NaN          of             1   [†ó•wati]  [†ó•wati]   \n",
       "5  psi-2-1       NaN         psi             2  *sitó• (?)     *sitó•   \n",
       "6   ca-2-1       NaN          ca             2       sųdá•      sųdá•   \n",
       "7  pdh-2-1       NaN         pdh             2     *sitóti    *sitóti   \n",
       "8   ch-2-1       NaN          ch             2       θʔída      θʔída   \n",
       "9   op-2-1       NaN          op             2      çidadi     çidadi   \n",
       "\n",
       "   Segments  Comment       Source  Cognacy  Loan  Graphemes  Profile  \n",
       "0       NaN      NaN          NaN      NaN   NaN        NaN      NaN  \n",
       "1       NaN      NaN      dec[38]      NaN   NaN        NaN      NaN  \n",
       "2       NaN      NaN            j      NaN   NaN        NaN      NaN  \n",
       "3       NaN      NaN            c      NaN   NaN        NaN      NaN  \n",
       "4       NaN      NaN  ds[328];ssf      NaN   NaN        NaN      NaN  \n",
       "5       NaN      NaN          NaN      NaN   NaN        NaN      NaN  \n",
       "6       NaN      NaN         ks;g      NaN   NaN        NaN      NaN  \n",
       "7       NaN      NaN          NaN      NaN   NaN        NaN      NaN  \n",
       "8       NaN      NaN      jgt[69]      NaN   NaN        NaN      NaN  \n",
       "9       NaN      NaN      sw[192]      NaN   NaN        NaN      NaN  "
      ]
     },
     "execution_count": 6,
     "metadata": {},
     "output_type": "execute_result"
    }
   ],
   "source": [
    "df.head(10)"
   ]
  },
  {
   "cell_type": "markdown",
   "id": "de57daa8",
   "metadata": {},
   "source": [
    "## Conversion des NaN"
   ]
  },
  {
   "cell_type": "code",
   "execution_count": 7,
   "id": "81a4a796",
   "metadata": {},
   "outputs": [],
   "source": [
    "df.fillna(\"\", inplace=True)"
   ]
  },
  {
   "cell_type": "markdown",
   "id": "018d8d97",
   "metadata": {},
   "source": [
    "## Transformation d'une colonne"
   ]
  },
  {
   "cell_type": "code",
   "execution_count": 8,
   "id": "be7ab0cd",
   "metadata": {},
   "outputs": [],
   "source": [
    "df.ID = df.ID.str.upper()"
   ]
  },
  {
   "cell_type": "code",
   "execution_count": 9,
   "id": "44bf4648",
   "metadata": {},
   "outputs": [
    {
     "data": {
      "text/html": [
       "<div>\n",
       "<style scoped>\n",
       "    .dataframe tbody tr th:only-of-type {\n",
       "        vertical-align: middle;\n",
       "    }\n",
       "\n",
       "    .dataframe tbody tr th {\n",
       "        vertical-align: top;\n",
       "    }\n",
       "\n",
       "    .dataframe thead th {\n",
       "        text-align: right;\n",
       "    }\n",
       "</style>\n",
       "<table border=\"1\" class=\"dataframe\">\n",
       "  <thead>\n",
       "    <tr style=\"text-align: right;\">\n",
       "      <th></th>\n",
       "      <th>ID</th>\n",
       "      <th>Local_ID</th>\n",
       "      <th>Language_ID</th>\n",
       "      <th>Parameter_ID</th>\n",
       "      <th>Value</th>\n",
       "      <th>Form</th>\n",
       "      <th>Segments</th>\n",
       "      <th>Comment</th>\n",
       "      <th>Source</th>\n",
       "      <th>Cognacy</th>\n",
       "      <th>Loan</th>\n",
       "      <th>Graphemes</th>\n",
       "      <th>Profile</th>\n",
       "    </tr>\n",
       "  </thead>\n",
       "  <tbody>\n",
       "    <tr>\n",
       "      <th>0</th>\n",
       "      <td>PCH-1-1</td>\n",
       "      <td></td>\n",
       "      <td>pch</td>\n",
       "      <td>1</td>\n",
       "      <td>*hú•ri-</td>\n",
       "      <td>*hú•ri-</td>\n",
       "      <td></td>\n",
       "      <td></td>\n",
       "      <td></td>\n",
       "      <td></td>\n",
       "      <td></td>\n",
       "      <td></td>\n",
       "      <td></td>\n",
       "    </tr>\n",
       "    <tr>\n",
       "      <th>1</th>\n",
       "      <td>CR-1-1</td>\n",
       "      <td></td>\n",
       "      <td>cr</td>\n",
       "      <td>1</td>\n",
       "      <td>húuli-</td>\n",
       "      <td>húuli-</td>\n",
       "      <td></td>\n",
       "      <td></td>\n",
       "      <td>dec[38]</td>\n",
       "      <td></td>\n",
       "      <td></td>\n",
       "      <td></td>\n",
       "      <td></td>\n",
       "    </tr>\n",
       "    <tr>\n",
       "      <th>2</th>\n",
       "      <td>HI-1-1</td>\n",
       "      <td></td>\n",
       "      <td>hi</td>\n",
       "      <td>1</td>\n",
       "      <td>hú•riširu</td>\n",
       "      <td>hú•riširu</td>\n",
       "      <td></td>\n",
       "      <td></td>\n",
       "      <td>j</td>\n",
       "      <td></td>\n",
       "      <td></td>\n",
       "      <td></td>\n",
       "      <td></td>\n",
       "    </tr>\n",
       "    <tr>\n",
       "      <th>3</th>\n",
       "      <td>MA-1-1</td>\n",
       "      <td></td>\n",
       "      <td>ma</td>\n",
       "      <td>1</td>\n",
       "      <td>hóraʔke</td>\n",
       "      <td>hóraʔke</td>\n",
       "      <td></td>\n",
       "      <td></td>\n",
       "      <td>c</td>\n",
       "      <td></td>\n",
       "      <td></td>\n",
       "      <td></td>\n",
       "      <td></td>\n",
       "    </tr>\n",
       "    <tr>\n",
       "      <th>4</th>\n",
       "      <td>OF-1-1</td>\n",
       "      <td></td>\n",
       "      <td>of</td>\n",
       "      <td>1</td>\n",
       "      <td>[†ó•wati]</td>\n",
       "      <td>[†ó•wati]</td>\n",
       "      <td></td>\n",
       "      <td></td>\n",
       "      <td>ds[328];ssf</td>\n",
       "      <td></td>\n",
       "      <td></td>\n",
       "      <td></td>\n",
       "      <td></td>\n",
       "    </tr>\n",
       "  </tbody>\n",
       "</table>\n",
       "</div>"
      ],
      "text/plain": [
       "        ID Local_ID Language_ID  Parameter_ID      Value       Form Segments  \\\n",
       "0  PCH-1-1                  pch             1    *hú•ri-    *hú•ri-            \n",
       "1   CR-1-1                   cr             1     húuli-     húuli-            \n",
       "2   HI-1-1                   hi             1  hú•riširu  hú•riširu            \n",
       "3   MA-1-1                   ma             1    hóraʔke    hóraʔke            \n",
       "4   OF-1-1                   of             1  [†ó•wati]  [†ó•wati]            \n",
       "\n",
       "  Comment       Source Cognacy Loan Graphemes Profile  \n",
       "0                                                      \n",
       "1              dec[38]                                 \n",
       "2                    j                                 \n",
       "3                    c                                 \n",
       "4          ds[328];ssf                                 "
      ]
     },
     "execution_count": 9,
     "metadata": {},
     "output_type": "execute_result"
    }
   ],
   "source": [
    "df.head()"
   ]
  },
  {
   "cell_type": "code",
   "execution_count": null,
   "id": "522ba804",
   "metadata": {},
   "outputs": [],
   "source": [
    "x = \"Flomo\\t-\\tAPL\"\n",
    "x.replace(\"\\t\", \"$\").replace(\"[\", \"\").replace(\"]\", \"\").split(\"$\")"
   ]
  },
  {
   "cell_type": "raw",
   "id": "27434520",
   "metadata": {},
   "source": [
    "x = \"$sdfqsf.mljlkj\"\n",
    "\n",
    "# échappe la liste de caractères (ajoute de l'antislash)\n",
    "for caractère in [\"$\", \"^\", \".\", \"*\", \"+\", \"-\", \"?\"]:\n",
    "    x = x.replace(caractère, f\"\\{caractère}\")\n",
    "print(x)"
   ]
  },
  {
   "cell_type": "code",
   "execution_count": null,
   "id": "e8f5c52a",
   "metadata": {},
   "outputs": [],
   "source": [
    "x = \"tāmen\\ttōu\\tzìxíngchē\"\n",
    "x = x.replace(\"\\t\",\"/\")\n",
    "x"
   ]
  },
  {
   "cell_type": "code",
   "execution_count": null,
   "id": "6133dfef",
   "metadata": {},
   "outputs": [],
   "source": [
    "def coupeAuxTab(x):\n",
    "    x =x.replace(\"\\\\t\", \"$\").replace(\"[\", \"\").replace(\"]\", \"\").split(\"$\")\n",
    "    return set(x)\n",
    "\n",
    "coupeAuxTab(\"Yoni\\t3PL\\tgo.IMPERF.3PL\")"
   ]
  },
  {
   "cell_type": "code",
   "execution_count": null,
   "id": "6072980e",
   "metadata": {},
   "outputs": [],
   "source": [
    "toto = \"oblig\\tarrive\\tthe\\tchild\"\n",
    "coupeAuxTab(toto)"
   ]
  },
  {
   "cell_type": "code",
   "execution_count": null,
   "id": "4b9ed1ec",
   "metadata": {},
   "outputs": [],
   "source": [
    "coupeAuxTab(df[\"Analyzed_Word\"][2])"
   ]
  },
  {
   "cell_type": "code",
   "execution_count": null,
   "id": "d5186ceb",
   "metadata": {},
   "outputs": [],
   "source": [
    "df[\"Gloss_m\"] = df[\"Gloss\"].apply(coupeAuxTab)"
   ]
  },
  {
   "cell_type": "code",
   "execution_count": null,
   "id": "6ab8c064",
   "metadata": {},
   "outputs": [],
   "source": [
    "df.head(20)"
   ]
  },
  {
   "cell_type": "code",
   "execution_count": null,
   "id": "ff71bb94",
   "metadata": {},
   "outputs": [],
   "source": [
    "df"
   ]
  },
  {
   "cell_type": "markdown",
   "id": "a7e7da31",
   "metadata": {},
   "source": [
    "## Filtre sur colonnes"
   ]
  },
  {
   "cell_type": "code",
   "execution_count": null,
   "id": "4b45d1a0",
   "metadata": {},
   "outputs": [],
   "source": [
    "df = df[df.ID.str.contains(\"4\") & df.Gloss.str.contains(\"PL\")]"
   ]
  },
  {
   "cell_type": "code",
   "execution_count": null,
   "id": "22f2bb28",
   "metadata": {},
   "outputs": [],
   "source": [
    "df[df.Comment != \"\"]"
   ]
  },
  {
   "cell_type": "markdown",
   "id": "838dab4b",
   "metadata": {},
   "source": [
    "## Sauvegarde du fichier"
   ]
  },
  {
   "cell_type": "code",
   "execution_count": null,
   "id": "93a5671c",
   "metadata": {},
   "outputs": [],
   "source": [
    "df.to_csv(\"results/examples_out.tsv\", index=False, encoding=\"utf-8\", sep=\"\\t\")"
   ]
  },
  {
   "cell_type": "code",
   "execution_count": null,
   "id": "4864bf99",
   "metadata": {},
   "outputs": [],
   "source": []
  }
 ],
 "metadata": {
  "interpreter": {
   "hash": "8dd01cfb4debfed50cf1d3998110c2b6946eda4f0e4a7b61139be043cd6ef6f2"
  },
  "kernelspec": {
   "display_name": "Python 3.8.8 ('binderenv': venv)",
   "language": "python",
   "name": "python3"
  },
  "language_info": {
   "codemirror_mode": {
    "name": "ipython",
    "version": 3
   },
   "file_extension": ".py",
   "mimetype": "text/x-python",
   "name": "python",
   "nbconvert_exporter": "python",
   "pygments_lexer": "ipython3",
   "version": "3.8.8"
  }
 },
 "nbformat": 4,
 "nbformat_minor": 5
}
